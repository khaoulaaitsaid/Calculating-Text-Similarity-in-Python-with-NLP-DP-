{
 "cells": [
  {
   "cell_type": "code",
   "execution_count": 1,
   "id": "ae93be7e-f2d3-4264-9e05-8fc44c5ca22a",
   "metadata": {},
   "outputs": [
    {
     "name": "stdout",
     "output_type": "stream",
     "text": [
      "Defaulting to user installation because normal site-packages is not writeable\n",
      "Requirement already satisfied: pip in c:\\users\\fujitsu\\appdata\\roaming\\python\\python311\\site-packages (23.2.1)\n",
      "Defaulting to user installation because normal site-packages is not writeable\n",
      "Requirement already satisfied: setuptools in c:\\users\\fujitsu\\appdata\\roaming\\python\\python311\\site-packages (68.2.2)\n",
      "Defaulting to user installation because normal site-packages is not writeable\n",
      "Requirement already satisfied: typing-extensions in c:\\users\\fujitsu\\appdata\\roaming\\python\\python311\\site-packages (4.8.0)\n",
      "Defaulting to user installation because normal site-packages is not writeable\n",
      "Requirement already satisfied: typing-extensions in c:\\users\\fujitsu\\appdata\\roaming\\python\\python311\\site-packages (4.8.0)\n",
      "Defaulting to user installation because normal site-packages is not writeable\n",
      "Requirement already satisfied: spacy in c:\\users\\fujitsu\\appdata\\roaming\\python\\python311\\site-packages (3.7.1)\n",
      "Requirement already satisfied: spacy-legacy<3.1.0,>=3.0.11 in c:\\users\\fujitsu\\appdata\\roaming\\python\\python311\\site-packages (from spacy) (3.0.12)\n",
      "Requirement already satisfied: spacy-loggers<2.0.0,>=1.0.0 in c:\\users\\fujitsu\\appdata\\roaming\\python\\python311\\site-packages (from spacy) (1.0.5)\n",
      "Requirement already satisfied: murmurhash<1.1.0,>=0.28.0 in c:\\users\\fujitsu\\appdata\\roaming\\python\\python311\\site-packages (from spacy) (1.0.10)\n",
      "Requirement already satisfied: cymem<2.1.0,>=2.0.2 in c:\\users\\fujitsu\\appdata\\roaming\\python\\python311\\site-packages (from spacy) (2.0.8)\n",
      "Requirement already satisfied: preshed<3.1.0,>=3.0.2 in c:\\users\\fujitsu\\appdata\\roaming\\python\\python311\\site-packages (from spacy) (3.0.9)\n",
      "Requirement already satisfied: thinc<8.3.0,>=8.1.8 in c:\\users\\fujitsu\\appdata\\roaming\\python\\python311\\site-packages (from spacy) (8.2.1)\n",
      "Requirement already satisfied: wasabi<1.2.0,>=0.9.1 in c:\\users\\fujitsu\\appdata\\roaming\\python\\python311\\site-packages (from spacy) (1.1.2)\n",
      "Requirement already satisfied: srsly<3.0.0,>=2.4.3 in c:\\users\\fujitsu\\appdata\\roaming\\python\\python311\\site-packages (from spacy) (2.4.8)\n",
      "Requirement already satisfied: catalogue<2.1.0,>=2.0.6 in c:\\users\\fujitsu\\appdata\\roaming\\python\\python311\\site-packages (from spacy) (2.0.10)\n",
      "Requirement already satisfied: weasel<0.4.0,>=0.1.0 in c:\\users\\fujitsu\\appdata\\roaming\\python\\python311\\site-packages (from spacy) (0.3.2)\n",
      "Requirement already satisfied: typer<0.10.0,>=0.3.0 in c:\\users\\fujitsu\\appdata\\roaming\\python\\python311\\site-packages (from spacy) (0.9.0)\n",
      "Requirement already satisfied: pathy>=0.10.0 in c:\\users\\fujitsu\\appdata\\roaming\\python\\python311\\site-packages (from spacy) (0.10.2)\n",
      "Requirement already satisfied: smart-open<7.0.0,>=5.2.1 in c:\\users\\fujitsu\\appdata\\roaming\\python\\python311\\site-packages (from spacy) (6.4.0)\n",
      "Requirement already satisfied: tqdm<5.0.0,>=4.38.0 in c:\\users\\fujitsu\\appdata\\roaming\\python\\python311\\site-packages (from spacy) (4.66.1)\n",
      "Requirement already satisfied: requests<3.0.0,>=2.13.0 in c:\\users\\fujitsu\\appdata\\roaming\\python\\python311\\site-packages (from spacy) (2.31.0)\n",
      "Requirement already satisfied: pydantic!=1.8,!=1.8.1,<3.0.0,>=1.7.4 in c:\\users\\fujitsu\\appdata\\roaming\\python\\python311\\site-packages (from spacy) (2.4.2)\n",
      "Requirement already satisfied: jinja2 in c:\\users\\fujitsu\\appdata\\roaming\\python\\python311\\site-packages (from spacy) (3.1.2)\n",
      "Requirement already satisfied: setuptools in c:\\users\\fujitsu\\appdata\\roaming\\python\\python311\\site-packages (from spacy) (68.2.2)\n",
      "Requirement already satisfied: packaging>=20.0 in c:\\users\\fujitsu\\appdata\\roaming\\python\\python311\\site-packages (from spacy) (23.1)\n",
      "Requirement already satisfied: langcodes<4.0.0,>=3.2.0 in c:\\users\\fujitsu\\appdata\\roaming\\python\\python311\\site-packages (from spacy) (3.3.0)\n",
      "Requirement already satisfied: numpy>=1.19.0 in c:\\users\\fujitsu\\appdata\\roaming\\python\\python311\\site-packages (from spacy) (1.24.3)\n",
      "Requirement already satisfied: annotated-types>=0.4.0 in c:\\users\\fujitsu\\appdata\\roaming\\python\\python311\\site-packages (from pydantic!=1.8,!=1.8.1,<3.0.0,>=1.7.4->spacy) (0.6.0)\n",
      "Requirement already satisfied: pydantic-core==2.10.1 in c:\\users\\fujitsu\\appdata\\roaming\\python\\python311\\site-packages (from pydantic!=1.8,!=1.8.1,<3.0.0,>=1.7.4->spacy) (2.10.1)\n",
      "Requirement already satisfied: typing-extensions>=4.6.1 in c:\\users\\fujitsu\\appdata\\roaming\\python\\python311\\site-packages (from pydantic!=1.8,!=1.8.1,<3.0.0,>=1.7.4->spacy) (4.8.0)\n",
      "Requirement already satisfied: charset-normalizer<4,>=2 in c:\\users\\fujitsu\\appdata\\roaming\\python\\python311\\site-packages (from requests<3.0.0,>=2.13.0->spacy) (3.2.0)\n",
      "Requirement already satisfied: idna<4,>=2.5 in c:\\users\\fujitsu\\appdata\\roaming\\python\\python311\\site-packages (from requests<3.0.0,>=2.13.0->spacy) (3.4)\n",
      "Requirement already satisfied: urllib3<3,>=1.21.1 in c:\\users\\fujitsu\\appdata\\roaming\\python\\python311\\site-packages (from requests<3.0.0,>=2.13.0->spacy) (1.26.16)\n",
      "Requirement already satisfied: certifi>=2017.4.17 in c:\\users\\fujitsu\\appdata\\roaming\\python\\python311\\site-packages (from requests<3.0.0,>=2.13.0->spacy) (2023.7.22)\n",
      "Requirement already satisfied: blis<0.8.0,>=0.7.8 in c:\\users\\fujitsu\\appdata\\roaming\\python\\python311\\site-packages (from thinc<8.3.0,>=8.1.8->spacy) (0.7.11)\n",
      "Requirement already satisfied: confection<1.0.0,>=0.0.1 in c:\\users\\fujitsu\\appdata\\roaming\\python\\python311\\site-packages (from thinc<8.3.0,>=8.1.8->spacy) (0.1.3)\n",
      "Requirement already satisfied: colorama in c:\\users\\fujitsu\\appdata\\roaming\\python\\python311\\site-packages (from tqdm<5.0.0,>=4.38.0->spacy) (0.4.6)\n",
      "Requirement already satisfied: click<9.0.0,>=7.1.1 in c:\\users\\fujitsu\\appdata\\roaming\\python\\python311\\site-packages (from typer<0.10.0,>=0.3.0->spacy) (8.1.7)\n",
      "Requirement already satisfied: cloudpathlib<0.16.0,>=0.7.0 in c:\\users\\fujitsu\\appdata\\roaming\\python\\python311\\site-packages (from weasel<0.4.0,>=0.1.0->spacy) (0.15.1)\n",
      "Requirement already satisfied: MarkupSafe>=2.0 in c:\\users\\fujitsu\\appdata\\roaming\\python\\python311\\site-packages (from jinja2->spacy) (2.1.3)\n",
      "Defaulting to user installation because normal site-packages is not writeable\n",
      "Requirement already satisfied: pydantic in c:\\users\\fujitsu\\appdata\\roaming\\python\\python311\\site-packages (2.4.2)\n",
      "Requirement already satisfied: annotated-types>=0.4.0 in c:\\users\\fujitsu\\appdata\\roaming\\python\\python311\\site-packages (from pydantic) (0.6.0)\n",
      "Requirement already satisfied: pydantic-core==2.10.1 in c:\\users\\fujitsu\\appdata\\roaming\\python\\python311\\site-packages (from pydantic) (2.10.1)\n",
      "Requirement already satisfied: typing-extensions>=4.6.1 in c:\\users\\fujitsu\\appdata\\roaming\\python\\python311\\site-packages (from pydantic) (4.8.0)\n"
     ]
    }
   ],
   "source": [
    "!pip install --upgrade pip\n",
    "!pip install --upgrade setuptools\n",
    "!pip install -U typing-extensions\n",
    "!pip install --upgrade typing-extensions\n",
    "!pip install spacy\n",
    "!pip install pydantic\n"
   ]
  },
  {
   "cell_type": "code",
   "execution_count": 2,
   "id": "f4fcbeb9-c1fa-4c31-bcb6-45b89a064d2e",
   "metadata": {},
   "outputs": [],
   "source": [
    "import spacy\n",
    "#loading vocabulary\n",
    "nlp = spacy.load(\"en_core_web_lg\")\n",
    "w1 = \"sunny\"\n",
    "w2 = \"rainy\"\n",
    "\n",
    "\n",
    "\n",
    "w1 = nlp.vocab[w1]\n",
    "w2 = nlp.vocab[w2]\n"
   ]
  },
  {
   "cell_type": "code",
   "execution_count": 3,
   "id": "93e96e9b-9c4d-4c20-b13d-47fc74722951",
   "metadata": {},
   "outputs": [
    {
     "data": {
      "text/plain": [
       "0.7090923190116882"
      ]
     },
     "execution_count": 3,
     "metadata": {},
     "output_type": "execute_result"
    }
   ],
   "source": [
    "w1.similarity(w2)"
   ]
  },
  {
   "cell_type": "code",
   "execution_count": 6,
   "id": "5b428165-b0a9-484c-9e3b-7ae8014e8b66",
   "metadata": {},
   "outputs": [],
   "source": [
    "w1 = \"weather\"\n",
    "w2 = \"whether\"\n",
    "\n",
    "\n",
    "\n",
    "w1 = nlp.vocab[w1]\n",
    "w2 = nlp.vocab[w2]"
   ]
  },
  {
   "cell_type": "code",
   "execution_count": 7,
   "id": "86c5479d-6885-4e60-9bb3-acef084185ae",
   "metadata": {},
   "outputs": [
    {
     "data": {
      "text/plain": [
       "0.35769519209861755"
      ]
     },
     "execution_count": 7,
     "metadata": {},
     "output_type": "execute_result"
    }
   ],
   "source": [
    "w1.similarity(w2)"
   ]
  },
  {
   "cell_type": "code",
   "execution_count": 8,
   "id": "33288fea-76f7-4652-a9b9-5c46950b98ca",
   "metadata": {},
   "outputs": [],
   "source": [
    "s1 = nlp(\"Time flies when you're having fun\")\n",
    "s2 = nlp(\"The more enjoyable an activity, the faster time seems to pass\")\n",
    "s3 = nlp(\"salma will drink coffee\")"
   ]
  },
  {
   "cell_type": "code",
   "execution_count": 9,
   "id": "b29f32f5-8056-40d0-ab6f-394331fc1d62",
   "metadata": {},
   "outputs": [
    {
     "data": {
      "text/plain": [
       "0.445356563870207"
      ]
     },
     "execution_count": 9,
     "metadata": {},
     "output_type": "execute_result"
    }
   ],
   "source": [
    "s1.similarity(s2)"
   ]
  },
  {
   "cell_type": "code",
   "execution_count": 10,
   "id": "c08aa874-2261-42b1-9a21-cfacdb567986",
   "metadata": {},
   "outputs": [
    {
     "data": {
      "text/plain": [
       "0.4127124674787997"
      ]
     },
     "execution_count": 10,
     "metadata": {},
     "output_type": "execute_result"
    }
   ],
   "source": [
    "s2.similarity(s3)"
   ]
  },
  {
   "cell_type": "code",
   "execution_count": 11,
   "id": "f1b8dab2-448b-431c-ab1b-fc36129c4c05",
   "metadata": {},
   "outputs": [],
   "source": [
    "#how to get specific part of individual text and compare them on similarities\n",
    "s1 = nlp(\"I play football in this awful arena\")\n",
    "s2 = nlp(\"I play the piano in this red room\")\n",
    "s3 = nlp(\"I repair the piano in this ugly room\")"
   ]
  },
  {
   "cell_type": "code",
   "execution_count": 12,
   "id": "e3dc69b6-e433-4923-9d5f-53cb09313927",
   "metadata": {},
   "outputs": [
    {
     "data": {
      "text/plain": [
       "'play'"
      ]
     },
     "execution_count": 12,
     "metadata": {},
     "output_type": "execute_result"
    }
   ],
   "source": [
    "s1_verbs = \" \".join([token.lemma_ for token in s1 if token.pos_ == \"VERB\"])\n",
    "s1_verbs"
   ]
  },
  {
   "cell_type": "code",
   "execution_count": 14,
   "id": "e43fdf93-969d-4a84-b33e-af7f0855c840",
   "metadata": {},
   "outputs": [
    {
     "data": {
      "text/plain": [
       "'play ,watch'"
      ]
     },
     "execution_count": 14,
     "metadata": {},
     "output_type": "execute_result"
    }
   ],
   "source": [
    "s4 = nlp(\"I play football and my cousin watch TV\")\n",
    "s4_verbs = \" ,\".join([token.lemma_ for token in s4 if token.pos_ == \"VERB\"])\n",
    "s4_verbs"
   ]
  },
  {
   "cell_type": "code",
   "execution_count": 15,
   "id": "b90d15ba-8e92-4c50-a35d-32aef306fed3",
   "metadata": {},
   "outputs": [
    {
     "data": {
      "text/plain": [
       "'awful'"
      ]
     },
     "execution_count": 15,
     "metadata": {},
     "output_type": "execute_result"
    }
   ],
   "source": [
    "s1_adjs = \" \".join([token.lemma_ for token in s1 if token.pos_ == \"ADJ\"])\n",
    "s1_adjs"
   ]
  },
  {
   "cell_type": "code",
   "execution_count": 16,
   "id": "24f3a435-21e8-47c9-974c-ec7ef1d23ace",
   "metadata": {},
   "outputs": [
    {
     "data": {
      "text/plain": [
       "'football arena'"
      ]
     },
     "execution_count": 16,
     "metadata": {},
     "output_type": "execute_result"
    }
   ],
   "source": [
    "s1_nouns = \" \".join([token.lemma_ for token in s1 if token.pos_ == \"NOUN\"])\n",
    "s1_nouns"
   ]
  },
  {
   "cell_type": "code",
   "execution_count": 17,
   "id": "0cf7a4e5-c27b-4f04-becc-cff12661a338",
   "metadata": {},
   "outputs": [],
   "source": [
    "s2_verbs = \" \".join([token.lemma_ for token in s2 if token.pos_ == \"VERB\"])\n",
    "s2_adjs = \" \".join([token.lemma_ for token in s2 if token.pos_ == \"ADJ\"])\n",
    "s2_nouns = \" \".join([token.lemma_ for token in s2 if token.pos_ == \"NOUN\"])\n",
    "\n",
    "s3_verbs = \" \".join([token.lemma_ for token in s3 if token.pos_ == \"VERB\"])\n",
    "s3_adjs = \" \".join([token.lemma_ for token in s3 if token.pos_ == \"ADJ\"])\n",
    "s3_nouns = \" \".join([token.lemma_ for token in s3 if token.pos_ == \"NOUN\"])"
   ]
  },
  {
   "cell_type": "code",
   "execution_count": 19,
   "id": "3c98300c-8661-4c4f-aa1f-de37bf4f8a49",
   "metadata": {},
   "outputs": [
    {
     "name": "stdout",
     "output_type": "stream",
     "text": [
      "I play football in this awful arena and I play the piano in this red room VERBS: 1.0\n",
      "I play football in this awful arena and I repair the piano in this ugly room VERBS: 0.09180833117643351\n",
      "I repair the piano in this ugly room and I play the piano in this red room VERBS: 0.09180833117643351\n"
     ]
    }
   ],
   "source": [
    "print(f\"{s1} and {s2} VERBS: {nlp(s1_verbs).similarity(nlp(s2_verbs))}\")\n",
    "print(f\"{s1} and {s3} VERBS: {nlp(s1_verbs).similarity(nlp(s3_verbs))}\")\n",
    "print(f\"{s3} and {s2} VERBS: {nlp(s3_verbs).similarity(nlp(s2_verbs))}\")"
   ]
  },
  {
   "cell_type": "code",
   "execution_count": 20,
   "id": "9d6ef15a-ea36-4ff4-bb02-ba265e3cb36f",
   "metadata": {},
   "outputs": [
    {
     "name": "stdout",
     "output_type": "stream",
     "text": [
      "I play football in this awful arena and I play the piano in this red room ADJECTIVES: 0.04668631384772172\n",
      "I play football in this awful arena and I repair the piano in this ugly room ADJECTIVES: -0.061016052383235236\n",
      "I repair the piano in this ugly room and I play the piano in this red room ADJECTIVES: 0.03232753203116909\n"
     ]
    }
   ],
   "source": [
    "print(f\"{s1} and {s2} ADJECTIVES: {nlp(s1_verbs).similarity(nlp(s2_adjs))}\")\n",
    "print(f\"{s1} and {s3} ADJECTIVES: {nlp(s1_verbs).similarity(nlp(s3_adjs))}\")\n",
    "print(f\"{s3} and {s2} ADJECTIVES: {nlp(s3_verbs).similarity(nlp(s2_adjs))}\")"
   ]
  },
  {
   "cell_type": "code",
   "execution_count": null,
   "id": "d4e8a4e8-9174-4e05-9986-4a772e4c9f36",
   "metadata": {},
   "outputs": [],
   "source": []
  }
 ],
 "metadata": {
  "kernelspec": {
   "display_name": "Python 3 (ipykernel)",
   "language": "python",
   "name": "python3"
  },
  "language_info": {
   "codemirror_mode": {
    "name": "ipython",
    "version": 3
   },
   "file_extension": ".py",
   "mimetype": "text/x-python",
   "name": "python",
   "nbconvert_exporter": "python",
   "pygments_lexer": "ipython3",
   "version": "3.11.3"
  }
 },
 "nbformat": 4,
 "nbformat_minor": 5
}
